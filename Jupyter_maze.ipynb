{
 "cells": [
  {
   "metadata": {},
   "cell_type": "code",
   "outputs": [],
   "execution_count": null,
   "source": [
    "from labyrinth.maze import Maze\n",
    "from labyrinth.pathfinder import find_path"
   ]
  },
  {
   "metadata": {},
   "cell_type": "markdown",
   "source": "Načítání bludiště:"
  },
  {
   "metadata": {},
   "cell_type": "code",
   "outputs": [],
   "execution_count": null,
   "source": "maze = Maze.load_from_file(\"examples/example_maze.csv\")"
  },
  {
   "metadata": {},
   "cell_type": "markdown",
   "source": "Generování bludiště:"
  },
  {
   "metadata": {},
   "cell_type": "code",
   "outputs": [],
   "execution_count": null,
   "source": "maze2 = Maze.generate(9, 9, filename=\"examples/generated_maze.csv\")"
  },
  {
   "metadata": {},
   "cell_type": "markdown",
   "source": "Hledání cesty"
  },
  {
   "metadata": {},
   "cell_type": "code",
   "outputs": [],
   "execution_count": null,
   "source": [
    "path = find_path(maze)\n",
    "if path is None:\n",
    "    print(\"No path found\")"
   ]
  },
  {
   "metadata": {},
   "cell_type": "markdown",
   "source": "Vykreslení\n"
  },
  {
   "metadata": {},
   "cell_type": "code",
   "outputs": [],
   "execution_count": null,
   "source": "maze.plot(path)"
  }
 ],
 "metadata": {
  "kernelspec": {
   "display_name": "Python 3",
   "language": "python",
   "name": "python3"
  },
  "language_info": {
   "name": "python",
   "version": "3.9.6"
  }
 },
 "nbformat": 4,
 "nbformat_minor": 2
}
